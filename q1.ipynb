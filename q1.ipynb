{
 "cells": [
  {
   "cell_type": "code",
   "execution_count": 1,
   "metadata": {},
   "outputs": [],
   "source": [
    "# Import the necessary libraries\n",
    "import pandas as pd"
   ]
  },
  {
   "cell_type": "code",
   "execution_count": 2,
   "metadata": {},
   "outputs": [],
   "source": [
    "# Import dataset, assign it to variable users\n",
    "users = pd.read_csv(\"https://raw.githubusercontent.com/justmarkham/DAT8/master/data/u.user\", sep=\"|\")"
   ]
  },
  {
   "cell_type": "code",
   "execution_count": 3,
   "metadata": {},
   "outputs": [
    {
     "data": {
      "text/html": [
       "<div>\n",
       "<style scoped>\n",
       "    .dataframe tbody tr th:only-of-type {\n",
       "        vertical-align: middle;\n",
       "    }\n",
       "\n",
       "    .dataframe tbody tr th {\n",
       "        vertical-align: top;\n",
       "    }\n",
       "\n",
       "    .dataframe thead th {\n",
       "        text-align: right;\n",
       "    }\n",
       "</style>\n",
       "<table border=\"1\" class=\"dataframe\">\n",
       "  <thead>\n",
       "    <tr style=\"text-align: right;\">\n",
       "      <th></th>\n",
       "      <th>user_id</th>\n",
       "      <th>age</th>\n",
       "      <th>gender</th>\n",
       "      <th>occupation</th>\n",
       "      <th>zip_code</th>\n",
       "    </tr>\n",
       "  </thead>\n",
       "  <tbody>\n",
       "    <tr>\n",
       "      <th>0</th>\n",
       "      <td>1</td>\n",
       "      <td>24</td>\n",
       "      <td>M</td>\n",
       "      <td>technician</td>\n",
       "      <td>85711</td>\n",
       "    </tr>\n",
       "    <tr>\n",
       "      <th>1</th>\n",
       "      <td>2</td>\n",
       "      <td>53</td>\n",
       "      <td>F</td>\n",
       "      <td>other</td>\n",
       "      <td>94043</td>\n",
       "    </tr>\n",
       "    <tr>\n",
       "      <th>2</th>\n",
       "      <td>3</td>\n",
       "      <td>23</td>\n",
       "      <td>M</td>\n",
       "      <td>writer</td>\n",
       "      <td>32067</td>\n",
       "    </tr>\n",
       "    <tr>\n",
       "      <th>3</th>\n",
       "      <td>4</td>\n",
       "      <td>24</td>\n",
       "      <td>M</td>\n",
       "      <td>technician</td>\n",
       "      <td>43537</td>\n",
       "    </tr>\n",
       "    <tr>\n",
       "      <th>4</th>\n",
       "      <td>5</td>\n",
       "      <td>33</td>\n",
       "      <td>F</td>\n",
       "      <td>other</td>\n",
       "      <td>15213</td>\n",
       "    </tr>\n",
       "  </tbody>\n",
       "</table>\n",
       "</div>"
      ],
      "text/plain": [
       "   user_id  age gender  occupation zip_code\n",
       "0        1   24      M  technician    85711\n",
       "1        2   53      F       other    94043\n",
       "2        3   23      M      writer    32067\n",
       "3        4   24      M  technician    43537\n",
       "4        5   33      F       other    15213"
      ]
     },
     "execution_count": 3,
     "metadata": {},
     "output_type": "execute_result"
    }
   ],
   "source": [
    "users.head()"
   ]
  },
  {
   "cell_type": "code",
   "execution_count": 4,
   "metadata": {},
   "outputs": [
    {
     "data": {
      "text/plain": [
       "occupation\n",
       "administrator    38.746835\n",
       "artist           31.392857\n",
       "doctor           43.571429\n",
       "educator         42.010526\n",
       "engineer         36.388060\n",
       "entertainment    29.222222\n",
       "executive        38.718750\n",
       "healthcare       41.562500\n",
       "homemaker        32.571429\n",
       "lawyer           36.750000\n",
       "librarian        40.000000\n",
       "marketing        37.615385\n",
       "none             26.555556\n",
       "other            34.523810\n",
       "programmer       33.121212\n",
       "retired          63.071429\n",
       "salesman         35.666667\n",
       "scientist        35.548387\n",
       "student          22.081633\n",
       "technician       33.148148\n",
       "writer           36.311111\n",
       "Name: age, dtype: float64"
      ]
     },
     "execution_count": 4,
     "metadata": {},
     "output_type": "execute_result"
    }
   ],
   "source": [
    "# Mean age per occupation\n",
    "users.groupby([\"occupation\"])[\"age\"].mean()"
   ]
  },
  {
   "cell_type": "code",
   "execution_count": 5,
   "metadata": {},
   "outputs": [
    {
     "name": "stdout",
     "output_type": "stream",
     "text": [
      "administrator: 0.06417910447761194\n",
      "artist: 0.022388059701492536\n",
      "doctor: 0.010447761194029851\n",
      "educator: 0.10298507462686567\n",
      "engineer: 0.09701492537313433\n",
      "entertainment: 0.023880597014925373\n",
      "executive: 0.04328358208955224\n",
      "healthcare: 0.007462686567164179\n",
      "homemaker: 0.0014925373134328358\n",
      "lawyer: 0.014925373134328358\n",
      "librarian: 0.03283582089552239\n",
      "marketing: 0.023880597014925373\n",
      "none: 0.007462686567164179\n",
      "other: 0.10298507462686567\n",
      "programmer: 0.08955223880597014\n",
      "retired: 0.019402985074626865\n",
      "salesman: 0.013432835820895522\n",
      "scientist: 0.041791044776119404\n",
      "student: 0.20298507462686566\n",
      "technician: 0.03880597014925373\n",
      "writer: 0.03880597014925373\n"
     ]
    }
   ],
   "source": [
    "# Male ratio by occupation, sorted most to least\n",
    "males = users.loc[users[\"gender\"] == \"M\"]\n",
    "count_per_occupation = males.groupby(\"occupation\")[\"gender\"].count()\n",
    "occupation = count_per_occupation.index\n",
    "count = [i for i in count_per_occupation]\n",
    "for i, j in zip(occupation, count):\n",
    "    print(f\"{i}: {j/sum(count)}\")"
   ]
  },
  {
   "cell_type": "code",
   "execution_count": 6,
   "metadata": {},
   "outputs": [
    {
     "data": {
      "text/plain": [
       "occupation\n",
       "administrator    21\n",
       "artist           19\n",
       "doctor           28\n",
       "educator         23\n",
       "engineer         22\n",
       "entertainment    15\n",
       "executive        22\n",
       "healthcare       22\n",
       "homemaker        20\n",
       "lawyer           21\n",
       "librarian        23\n",
       "marketing        24\n",
       "none             11\n",
       "other            13\n",
       "programmer       20\n",
       "retired          51\n",
       "salesman         18\n",
       "scientist        23\n",
       "student           7\n",
       "technician       21\n",
       "writer           18\n",
       "Name: age, dtype: int64"
      ]
     },
     "execution_count": 6,
     "metadata": {},
     "output_type": "execute_result"
    }
   ],
   "source": [
    "# Min age per occupation\n",
    "users.groupby([\"occupation\"])[\"age\"].min()"
   ]
  },
  {
   "cell_type": "code",
   "execution_count": 7,
   "metadata": {},
   "outputs": [
    {
     "data": {
      "text/plain": [
       "occupation\n",
       "administrator    70\n",
       "artist           48\n",
       "doctor           64\n",
       "educator         63\n",
       "engineer         70\n",
       "entertainment    50\n",
       "executive        69\n",
       "healthcare       62\n",
       "homemaker        50\n",
       "lawyer           53\n",
       "librarian        69\n",
       "marketing        55\n",
       "none             55\n",
       "other            64\n",
       "programmer       63\n",
       "retired          73\n",
       "salesman         66\n",
       "scientist        55\n",
       "student          42\n",
       "technician       55\n",
       "writer           60\n",
       "Name: age, dtype: int64"
      ]
     },
     "execution_count": 7,
     "metadata": {},
     "output_type": "execute_result"
    }
   ],
   "source": [
    "# Max age per occupation\n",
    "users.groupby([\"occupation\"])[\"age\"].max()"
   ]
  },
  {
   "cell_type": "code",
   "execution_count": 8,
   "metadata": {},
   "outputs": [
    {
     "data": {
      "text/plain": [
       "occupation     age\n",
       "administrator  21     21\n",
       "               22     22\n",
       "               23     23\n",
       "               25     25\n",
       "               26     26\n",
       "                      ..\n",
       "writer         50     50\n",
       "               51     51\n",
       "               52     52\n",
       "               56     56\n",
       "               60     60\n",
       "Name: age, Length: 429, dtype: int64"
      ]
     },
     "execution_count": 8,
     "metadata": {},
     "output_type": "execute_result"
    }
   ],
   "source": [
    "# Mean age per combination of occupation and sex\n",
    "users.groupby([\"occupation\", \"age\"])[\"age\"].mean()"
   ]
  },
  {
   "cell_type": "code",
   "execution_count": 9,
   "metadata": {},
   "outputs": [
    {
     "name": "stdout",
     "output_type": "stream",
     "text": [
      "Men\n",
      "administrator: 50.0\n",
      "artist: 50.0\n",
      "doctor: 50.0\n",
      "educator: 50.0\n",
      "engineer: 50.0\n",
      "entertainment: 50.0\n",
      "executive: 50.0\n",
      "healthcare: 50.0\n",
      "homemaker: 50.0\n",
      "lawyer: 50.0\n",
      "librarian: 50.0\n",
      "marketing: 50.0\n",
      "none: 50.0\n",
      "other: 50.0\n",
      "programmer: 50.0\n",
      "retired: 50.0\n",
      "salesman: 50.0\n",
      "scientist: 50.0\n",
      "student: 50.0\n",
      "technician: 50.0\n",
      "writer: 50.0\n",
      "\n",
      "\n",
      "Women\n",
      "administrator: 50.0\n",
      "artist: 50.0\n",
      "doctor: 50.0\n",
      "educator: 50.0\n",
      "engineer: 50.0\n",
      "entertainment: 50.0\n",
      "executive: 50.0\n",
      "healthcare: 50.0\n",
      "homemaker: 50.0\n",
      "lawyer: 50.0\n",
      "librarian: 50.0\n",
      "marketing: 50.0\n",
      "none: 50.0\n",
      "other: 50.0\n",
      "programmer: 50.0\n",
      "retired: 50.0\n",
      "salesman: 50.0\n",
      "scientist: 50.0\n",
      "student: 50.0\n",
      "technician: 50.0\n",
      "writer: 50.0\n"
     ]
    }
   ],
   "source": [
    "# Percentage of women and men per occupation\n",
    "\n",
    "males = users.loc[users[\"gender\"] == \"M\"]\n",
    "males_count_per_occupation = males.groupby(\"occupation\")[\"gender\"].count()\n",
    "males_occupation = count_per_occupation.index\n",
    "males_count = [i for i in count_per_occupation]\n",
    "\n",
    "females = users.loc[users[\"gender\"] == \"W\"]\n",
    "females_count_per_occupation = males.groupby(\"occupation\")[\"gender\"].count()\n",
    "females_occupation = count_per_occupation.index\n",
    "females_count = [i for i in count_per_occupation]\n",
    "\n",
    "print(\"Men\")\n",
    "for i, j, k in zip(males_occupation, males_count, females_count):\n",
    "    print(f\"{i}: {100*j/(j+k)}\")\n",
    "\n",
    "print(\"\\n\\nWomen\")\n",
    "for i, j, k in zip(females_occupation, females_count, males_count):\n",
    "    print(f\"{i}: {100*j/(j+k)}\")"
   ]
  },
  {
   "cell_type": "code",
   "execution_count": null,
   "metadata": {},
   "outputs": [],
   "source": []
  }
 ],
 "metadata": {
  "kernelspec": {
   "display_name": "Python 3",
   "language": "python",
   "name": "python3"
  },
  "language_info": {
   "codemirror_mode": {
    "name": "ipython",
    "version": 3
   },
   "file_extension": ".py",
   "mimetype": "text/x-python",
   "name": "python",
   "nbconvert_exporter": "python",
   "pygments_lexer": "ipython3",
   "version": "3.8.5"
  }
 },
 "nbformat": 4,
 "nbformat_minor": 1
}
